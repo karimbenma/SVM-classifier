{
 "cells": [
  {
   "cell_type": "markdown",
   "id": "6054091b",
   "metadata": {},
   "source": [
    "# projet traitement d'images : Classification des chiffres manuscrit avec le SVM"
   ]
  },
  {
   "cell_type": "code",
   "execution_count": 4,
   "id": "2a5208dc",
   "metadata": {},
   "outputs": [
    {
     "name": "stdout",
     "output_type": "stream",
     "text": [
      "Downloading data from https://storage.googleapis.com/tensorflow/tf-keras-datasets/mnist.npz\n",
      "11490434/11490434 [==============================] - 5s 0us/step\n",
      "(48000, 28, 28)\n"
     ]
    }
   ],
   "source": [
    "from keras.datasets import mnist\n",
    "from sklearn import datasets\n",
    "from sklearn import svm\n",
    "from sklearn import metrics\n",
    "from sklearn.model_selection import train_test_split\n",
    "import numpy as np\n",
    "import matplotlib.pyplot as plt\n",
    "\n",
    "\n",
    "(x_train, y_train), (x_test, y_test) = mnist.load_data()\n",
    "\n",
    "x_train, x_test, y_train, y_test = train_test_split(x_train, y_train, test_size=0.2)\n",
    "print(x_train.shape)\n",
    "x_train = x_train.reshape(48000,28*28)\n",
    "x_test = x_test.reshape(12000,28*28)\n",
    "\n",
    "clf = svm.SVC(kernel='poly',gamma='scale',coef0=0.48)"
   ]
  },
  {
   "cell_type": "markdown",
   "id": "8b7db444",
   "metadata": {},
   "source": [
    "Ce code importe diverses bibliothèques et chargement de données à partir de la base de données MNIST de chiffres manuscrits. Il utilise également la fonction train_test_split de scikit-learn pour diviser les données d'entraînement et de test en utilisant un ratio de test de 0,2. Ensuite, il réforme les données d'entraînement et de test en tableaux à deux dimensions de 28x28 avant de créer un classifieur de vecteur de support (SVM) en utilisant un noyau polynomial avec des paramètres de gamma et coef0 spécifiés.\n"
   ]
  },
  {
   "cell_type": "code",
   "execution_count": 2,
   "id": "1d19c165",
   "metadata": {},
   "outputs": [],
   "source": [
    "clf.fit(x_train, y_train)\n",
    "yt_pred = clf.predict(x_test)\n",
    "joblib.dump(clf, 'svm_model.pkl')"
   ]
  },
  {
   "cell_type": "markdown",
   "id": "ca490abe",
   "metadata": {},
   "source": [
    "le classifieur SVM créé précédemment pour s'entraîner sur les données d'entraînement en utilisant la fonction fit. Ensuite, il utilise le classifieur entraîné pour prédire les étiquettes de test en utilisant la fonction predict sur les données de test. Enfin, le classifieur entraîné est enregistré dans un fichier svm_model.pkl en utilisant la fonction dump de la bibliothèque joblib."
   ]
  },
  {
   "cell_type": "code",
   "execution_count": 17,
   "id": "496c0be7",
   "metadata": {},
   "outputs": [],
   "source": [
    "import joblib\n",
    "clf = joblib.load('svm_model.pkl')\n",
    "yt_pred = clf.predict(x_test)"
   ]
  },
  {
   "cell_type": "markdown",
   "id": "5fb1f8ae",
   "metadata": {},
   "source": [
    "la bibliothèque joblib et charge le classifieur SVM entraîné précédemment à partir du fichier svm_model.pkl en utilisant la fonction load. Ensuite, il utilise le classifieur chargé pour prédire les étiquettes de test en utilisant la fonction predict sur les données de test. Ces étiquettes prédites sont stockées dans la variable yt_pred."
   ]
  },
  {
   "cell_type": "code",
   "execution_count": 25,
   "id": "38db5b2e",
   "metadata": {},
   "outputs": [
    {
     "name": "stdout",
     "output_type": "stream",
     "text": [
      "99.35000000000001 %\n"
     ]
    }
   ],
   "source": [
    "print(metrics.accuracy_score(y_test, yt_pred)*100,\"%\")"
   ]
  },
  {
   "cell_type": "markdown",
   "id": "fa548fdf",
   "metadata": {},
   "source": [
    " la fonction accuracy_score de la bibliothèque metrics de scikit-learn pour calculer la précision du classifieur en comparant les étiquettes réelles de test (stockées dans la variable y_test) aux étiquettes prédites (stockées dans la variable yt_pred). La précision est imprimée en pourcentage en multipliant le résultat par 100."
   ]
  },
  {
   "cell_type": "code",
   "execution_count": 27,
   "id": "1926a2aa",
   "metadata": {},
   "outputs": [
    {
     "name": "stdout",
     "output_type": "stream",
     "text": [
      "la prediction de cette image est:  2\n"
     ]
    },
    {
     "data": {
      "image/png": "[encoded data removed]",
      "text/plain": [
       "<Figure size 640x480 with 1 Axes>"
      ]
     },
     "metadata": {},
     "output_type": "display_data"
    }
   ],
   "source": [
    "index=2899\n",
    "\n",
    "x_test=x_test.reshape(12000,28,28)\n",
    "img=plt.imshow(x_test[index])\n",
    "print(\"la prediction de cette image est: \",yt_pred[index])"
   ]
  },
  {
   "cell_type": "markdown",
   "id": "8a7b7a07",
   "metadata": {},
   "source": [
    "Ce code commence par définir la variable index comme étant égale à 17. Il réforme ensuite les données de test en tableaux à trois dimensions de 28x28 avant de créer une image en utilisant la fonction imshow de la bibliothèque matplotlib.pyplot et en lui passant la donnée de test à l'index 17 (stockée dans la variable x_test). Enfin, le code imprime la prédiction du classifieur pour cette donnée de test en utilisant l'index 17 de la liste des étiquettes prédites (stockées dans la variable yt_pred)."
   ]
  },
  {
   "cell_type": "code",
   "execution_count": 20,
   "id": "53ba499f",
   "metadata": {},
   "outputs": [
    {
     "name": "stdout",
     "output_type": "stream",
     "text": [
      "Cette image en array:\n",
      "[[  0   0   0   0   0   0   0   0   0   0   0   0   0   0   0   0   0   0\n",
      "    0   0   0   0   0   0   0   0   0   0]\n",
      " [  0   0   0   0   0   0   0   0   0   0   0   0   0   0   0   0   0   0\n",
      "    0   0   0   0   0   0   0   0   0   0]\n",
      " [  0   0   0   0   0   0   0   0   0   0   0   0   0   0   0   0   0   0\n",
      "    0   0   0   0   0   0   0   0   0   0]\n",
      " [  0   0   0   0   0   0   0   0   0   0   0   0   0   0   0   0   0   0\n",
      "    0   0   0   0   0   0   0   0   0   0]\n",
      " [  0   0   0   0   0   0   0   0   0   0   0   0   0   0   0   0   0   0\n",
      "    0   0   0   0   0   0   0   0   0   0]\n",
      " [  0   0   0   0   0   0   0   0   0   0   0   0   0   0   0   0   0   0\n",
      "    0   0   0   0   0   0   0   0   0   0]\n",
      " [  0   0   0   0   0   0   0   0   0   0   0   0   0   0   0   0   0   0\n",
      "    0   0   0   0   0   0   0   0   0   0]\n",
      " [  0   0   0   0   0   0   0   0   0   0   0   0   0   0   0   0   0   0\n",
      "    0   0   0   0   0   0   0   0   0   0]\n",
      " [  0   0   0   0   0  47 100 145 159 159 159 159 159 159 159 159 163 228\n",
      "  210 141   0   0   0   0   0   0   0   0]\n",
      " [  0   0   0   0  84 246 254 254 254 254 254 254 254 254 254 254 254 254\n",
      "  254 254 163   0   0   0   0   0   0   0]\n",
      " [  0   0   0   0 152 254 254 254 254 254 254 254 254 254 254 254 254 254\n",
      "  254 254 211  11   0   0   0   0   0   0]\n",
      " [  0   0   0   0  23 239 254 254 254 254 254 254 254 254 237 197 197 235\n",
      "  255 254 254  29   0   0   0   0   0   0]\n",
      " [  0   0   0   0   0  65  97 134 167 118  38  38  38  38  27   0   5 209\n",
      "  254 254 254 146   0   0   0   0   0   0]\n",
      " [  0   0   0   0   0   0   0   0   0   0   0   0   0   0   0   0  80 254\n",
      "  254 254 254  56   0   0   0   0   0   0]\n",
      " [  0   0   0   0   0   0   0   0   0   0   0   0   0   0   0   0 199 254\n",
      "  254 253 150   1   0   0   0   0   0   0]\n",
      " [  0   0   0   0   0   0   0   0   0   0   0   0   0   0   0  20 226 254\n",
      "  254 169   0   0   0   0   0   0   0   0]\n",
      " [  0   0   0   0   0   0   0   0   0   0   0   0   0   0   0  75 254 254\n",
      "  254 153   0   0   0   0   0   0   0   0]\n",
      " [  0   0   0   0   0   0   0   0   0   0   0   0   0   0   0 158 254 254\n",
      "  254 153   0   0   0   0   0   0   0   0]\n",
      " [  0   0   0   0   0   0   0   0   0   0   0   0   0   0   5 237 254 254\n",
      "  218  29   0   0   0   0   0   0   0   0]\n",
      " [  0   0   0   0   0   0   0   0   0   0   0   0   0   0 107 254 254 254\n",
      "  120   0   0   0   0   0   0   0   0   0]\n",
      " [  0   0   0   0   0   0   0   0   0   0   0   0   0   8 218 254 254 254\n",
      "  104   0   0   0   0   0   0   0   0   0]\n",
      " [  0   0   0   0   0   0   0   0   0   0   0   0   0  19 254 254 254 254\n",
      "   24   0   0   0   0   0   0   0   0   0]\n",
      " [  0   0   0   0   0   0   0   0   0   0   0   0   0 138 254 254 254 206\n",
      "    8   0   0   0   0   0   0   0   0   0]\n",
      " [  0   0   0   0   0   0   0   0   0   0   0   0   0 207 254 254 249  50\n",
      "    0   0   0   0   0   0   0   0   0   0]\n",
      " [  0   0   0   0   0   0   0   0   0   0   0   0  20 226 254 254 170   0\n",
      "    0   0   0   0   0   0   0   0   0   0]\n",
      " [  0   0   0   0   0   0   0   0   0   0   0   0  49 254 254 254  87   0\n",
      "    0   0   0   0   0   0   0   0   0   0]\n",
      " [  0   0   0   0   0   0   0   0   0   0   0   0  49 254 254 166   6   0\n",
      "    0   0   0   0   0   0   0   0   0   0]\n",
      " [  0   0   0   0   0   0   0   0   0   0   0   0  12 145 254  79   0   0\n",
      "    0   0   0   0   0   0   0   0   0   0]]\n"
     ]
    }
   ],
   "source": [
    "print(\"Cette image en array:\")\n",
    "print(x_test[index])\n"
   ]
  },
  {
   "cell_type": "code",
   "execution_count": 28,
   "id": "13217b89",
   "metadata": {},
   "outputs": [
    {
     "data": {
      "image/png": "[encoded data removed]",
      "text/plain": [
       "<Figure size 640x480 with 5 Axes>"
      ]
     },
     "metadata": {},
     "output_type": "display_data"
    },
    {
     "name": "stdout",
     "output_type": "stream",
     "text": [
      "les Predictions de ces images sont: [2 7 2 1 9]\n"
     ]
    }
   ],
   "source": [
    "\n",
    "fig, axs = plt.subplots(1, 5)\n",
    "axs[0].imshow(x_test[index])\n",
    "axs[1].imshow(x_test[index+1])\n",
    "axs[2].imshow(x_test[index+2])\n",
    "axs[3].imshow(x_test[index+3])\n",
    "axs[4].imshow(x_test[index+4])\n",
    "\n",
    "\n",
    "plt.show()\n",
    "\n",
    "a=yt_pred[index:index+5]\n",
    "print(\"les Predictions de ces images sont:\",a)"
   ]
  },
  {
   "cell_type": "markdown",
   "id": "3336deed",
   "metadata": {},
   "source": [
    "Ce code utilise la fonction subplots de la bibliothèque matplotlib.pyplot pour créer un sous-graphique composé de 5 sous-graphiques. Il affiche ensuite cinq images de données de test en utilisant la fonction imshow sur chaque sous-graphique, en utilisant les index de index à index+4 de la liste des données de test (stockées dans la variable x_test). La fonction show est ensuite utilisée pour afficher le sous-graphique. Enfin, le code imprime les prédictions du classifieur pour ces cinq données de test en utilisant les index de index à index+4 de la liste des étiquettes prédites (stockées dans la variable yt_pred)."
   ]
  },
  {
   "cell_type": "code",
   "execution_count": 22,
   "id": "91ce827b",
   "metadata": {},
   "outputs": [
    {
     "name": "stdout",
     "output_type": "stream",
     "text": [
      "[[1177    0    0    0    0    2    2    0    0    0]\n",
      " [   0 1417    1    0    1    0    0    1    0    1]\n",
      " [   2    0 1197    0    1    0    0    2    0    1]\n",
      " [   0    1    4 1278    0    3    0    0    3    1]\n",
      " [   1    0    0    0 1121    0    0    1    0    2]\n",
      " [   1    1    0    3    0 1103    1    0    0    0]\n",
      " [   0    0    0    0    1    1 1150    0    1    0]\n",
      " [   0    9    3    0    0    0    0 1211    0    4]\n",
      " [   0    3    0    1    1    3    2    1 1133    1]\n",
      " [   0    1    0    0    1    1    0    7    1 1135]]\n"
     ]
    }
   ],
   "source": [
    "from sklearn.metrics import confusion_matrix\n",
    "\n",
    "cm = confusion_matrix(y_test, yt_pred)\n",
    "\n",
    "\n",
    "print(cm)"
   ]
  },
  {
   "cell_type": "markdown",
   "id": "4b3ba0cc",
   "metadata": {},
   "source": [
    "Ce code utilise la fonction confusion_matrix du module metrics de scikit-learn pour générer une matrice de confusion. Une matrice de confusion est une table utilisée pour décrire les performances d'un modèle de classification sur un jeu de données de test pour lequel les vraies valeurs sont connues."
   ]
  },
  {
   "cell_type": "code",
   "execution_count": 42,
   "id": "74757114",
   "metadata": {},
   "outputs": [
    {
     "name": "stdout",
     "output_type": "stream",
     "text": [
      "      0     1     2     3     4     5     6     7     8     9\n",
      "0  1165     0     0     0     1     0     2     1     1     0\n",
      "1     0  1341     2     1     1     0     0     0     0     0\n",
      "2     1     0  1215     0     0     0     0     2     1     1\n",
      "3     0     0     1  1238     1     2     0     2     2     1\n",
      "4     0     0     0     0  1145     0     0     0     0     3\n",
      "5     0     0     0     2     0  1066     1     1     0     2\n",
      "6     1     0     0     0     2     1  1145     0     0     0\n",
      "7     1     7     3     0     2     1     0  1280     0     5\n",
      "8     0     3     0     0     0     3     0     1  1155     0\n",
      "9     0     0     0     0     4     1     0     1     0  1182\n"
     ]
    }
   ],
   "source": [
    "import pandas as pd\n",
    "\n",
    "# Creation de dataframe pour la matrice de confusion\n",
    "df = pd.DataFrame(cm, index=['0', '1', '2', '3', '4', '5', '6', '7', '8', '9'], columns=['0', '1', '2', '3', '4', '5', '6', '7', '8', '9'])\n",
    "\n",
    "\n",
    "print(df)\n"
   ]
  }
 ],
 "metadata": {
  "kernelspec": {
   "display_name": "Python 3 (ipykernel)",
   "language": "python",
   "name": "python3"
  },
  "language_info": {
   "codemirror_mode": {
    "name": "ipython",
    "version": 3
   },
   "file_extension": ".py",
   "mimetype": "text/x-python",
   "name": "python",
   "nbconvert_exporter": "python",
   "pygments_lexer": "ipython3",
   "version": "3.11.4"
  }
 },
 "nbformat": 4,
 "nbformat_minor": 5
}
